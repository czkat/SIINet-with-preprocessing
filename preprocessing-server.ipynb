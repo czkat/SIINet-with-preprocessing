{
 "cells": [
  {
   "cell_type": "code",
   "execution_count": 24,
   "metadata": {},
   "outputs": [],
   "source": [
    "import cv2\n",
    "import numpy as np\n",
    "import re\n",
    "from tqdm import tqdm\n",
    "import os"
   ]
  },
  {
   "cell_type": "code",
   "execution_count": 25,
   "metadata": {},
   "outputs": [],
   "source": [
    "#read train img and masks\n",
    "#stride s=128, window size w=512 (w x w)\n",
    "#calculate ratio r for all cropped img\n",
    "#compare min(r) with theta\n",
    "#keep crop img if min(r) > theta, theta = 0.01\n",
    "#double check from massachusetts 48,290 img in total"
   ]
  },
  {
   "cell_type": "code",
   "execution_count": 26,
   "metadata": {
    "scrolled": true
   },
   "outputs": [],
   "source": [
    "class cvpr_converter:\n",
    "    def __init__(self, root_dir,save_dir):        \n",
    "        self.root_dir = root_dir\n",
    "        self.save_dir = save_dir\n",
    "        mask_files = [f for f in os.listdir(os.path.join(root_dir, 'mask'))] # algo: List Comprehension\n",
    "        img_files = [f for f in os.listdir(os.path.join(root_dir, 'image'))]\n",
    "        #self.ids = [t[t.index('tile_') + 5: t.index('.')] for t in img_files]\n",
    "        self.ids = [t[0:t.index('_sat')] for t in img_files]        \n",
    "        \n",
    "    def convertAllToInput(self):\n",
    "        self.convertToInput(0, len(self.ids))\n",
    "        \n",
    "    def convertToInput(self, start, end):    \n",
    "        def sliding_window (x,w_width,y,w_height,image):\n",
    "            window = image[x:x + w_width, y:y + w_height, :]\n",
    "            return window\n",
    "\n",
    "        def save_img (img_id,x,y,window,image=bool):           \n",
    "            path_img_s = self.save_dir+ 'image' + ''\n",
    "            path_mask_s = self.save_dir+ 'mask' + ''\n",
    "            if image == True:\n",
    "                cv2.imwrite(os.path.join(path_img_s,str(img_id)+'img'+str(x)+ '_' + str(y)+'.tiff'),window)\n",
    "            else:\n",
    "                cv2.imwrite(os.path.join(path_mask_s,str(img_id)+'mask'+str(x)+ '_' + str(y)+'.tif'),window)\n",
    "\n",
    "        def balanced_with_road (window2,theta):\n",
    "            n_white_road = np.sum(window2 == 255)\n",
    "            n_black_bg = np.sum(window2 == 0)\n",
    "            n_total_pix = n_white_road+n_black_bg #n=3,000,000 rgb bands\n",
    "\n",
    "            if n_white_road + n_black_bg != n_total_pix:\n",
    "                print('Pixel number of black and white does not add up to total number of pixel.')\n",
    "            else:\n",
    "                r = [n_white_road/n_total_pix, n_black_bg/n_total_pix]\n",
    "                if min(r) > theta:\n",
    "                    return True\n",
    "                else: \n",
    "                    return False\n",
    "\n",
    "        def slice_select_save (image,mask,img_id):\n",
    "            stepSize = 128\n",
    "            (w_width, w_height) = (512, 512) # window size\n",
    "            theta = 0.01\n",
    "            size = 1024\n",
    "\n",
    "            for x in range(0, size - w_width +1 , stepSize):\n",
    "                for y in range(0, size - w_height +1, stepSize):\n",
    "                    window = sliding_window (x,w_width,y,w_height,image)        \n",
    "                    window2 = sliding_window (x,w_width,y,w_height,mask)\n",
    "                    if balanced_with_road (window2,theta) == True:\n",
    "                        save_img(img_id,x,y,window,True)\n",
    "                        save_img(img_id,x,y,window2,False)\n",
    "                        \n",
    "        pbar = tqdm(self.ids)\n",
    "        \n",
    "        for img_id in pbar:\n",
    "            path_fol = self.root_dir+ 'image' + ''\n",
    "            path_img = path_fol + '/' + img_id + \"_sat.jpg\"\n",
    "            path_fol2 = self.root_dir+ 'mask' + ''\n",
    "            path_mask = path_fol2 + '/' + img_id + \"_mask.png\"\n",
    "            \n",
    "            image = cv2.imread(path_img) \n",
    "            mask = cv2.imread(path_mask)\n",
    "                    \n",
    "            slice_select_save (image,mask,img_id)\n",
    "            \n",
    "\n",
    "      "
   ]
  },
  {
   "cell_type": "code",
   "execution_count": 27,
   "metadata": {},
   "outputs": [],
   "source": [
    "#sliding window algorithm (medium level on leetcode) ?"
   ]
  },
  {
   "cell_type": "code",
   "execution_count": null,
   "metadata": {},
   "outputs": [
    {
     "name": "stderr",
     "output_type": "stream",
     "text": [
      " 51%|█████▏    | 3200/6226 [20:50<56:21,  1.12s/it]  "
     ]
    }
   ],
   "source": [
    "#read into variable\n",
    "root_dir = '/mnt/data2/Projects/RoadDetection/1_SIINet-master/dataset_cvpr/'\n",
    "save_dir = '/mnt/data2/Projects/RoadDetection/1_SIINet-master/processed_dataset/'\n",
    "\n",
    "converter = cvpr_converter(root_dir,save_dir)\n",
    "converter.convertAllToInput()"
   ]
  }
 ],
 "metadata": {
  "kernelspec": {
   "display_name": "Python 3",
   "language": "python",
   "name": "python3"
  },
  "language_info": {
   "codemirror_mode": {
    "name": "ipython",
    "version": 3
   },
   "file_extension": ".py",
   "mimetype": "text/x-python",
   "name": "python",
   "nbconvert_exporter": "python",
   "pygments_lexer": "ipython3",
   "version": "3.8.3"
  }
 },
 "nbformat": 4,
 "nbformat_minor": 4
}
